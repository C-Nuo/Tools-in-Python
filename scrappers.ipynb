{
 "cells": [
  {
   "cell_type": "code",
   "execution_count": 1,
   "metadata": {},
   "outputs": [
    {
     "name": "stdout",
     "output_type": "stream",
     "text": [
      "^C\n",
      "Note: you may need to restart the kernel to use updated packages.\n"
     ]
    },
    {
     "name": "stdout",
     "output_type": "stream",
     "text": [
      "Looking in indexes: https://pypi.tuna.tsinghua.edu.cn/simple\n",
      "Requirement already satisfied: gazpacho in c:\\users\\陈诺1224\\appdata\\local\\programs\\python\\python311\\lib\\site-packages (1.1)\n"
     ]
    },
    {
     "name": "stderr",
     "output_type": "stream",
     "text": [
      "\n",
      "[notice] A new release of pip is available: 23.1.2 -> 25.0\n",
      "[notice] To update, run: python.exe -m pip install --upgrade pip\n"
     ]
    }
   ],
   "source": [
    "# 下载gazpacho\n",
    "\n",
    "%pip install gazpacho"
   ]
  },
  {
   "cell_type": "code",
   "execution_count": 2,
   "metadata": {},
   "outputs": [],
   "source": [
    "import gazpacho"
   ]
  },
  {
   "cell_type": "code",
   "execution_count": 5,
   "metadata": {},
   "outputs": [],
   "source": [
    "# 提供目标网址\n",
    "URL= \"https://www.olympedia.org/lists/120/manual\""
   ]
  },
  {
   "cell_type": "code",
   "execution_count": 6,
   "metadata": {},
   "outputs": [],
   "source": [
    "# 爬取网页内容\n",
    "html = gazpacho.get(URL)"
   ]
  },
  {
   "cell_type": "code",
   "execution_count": 64,
   "metadata": {},
   "outputs": [
    {
     "data": {
      "text/plain": [
       "978765"
      ]
     },
     "execution_count": 64,
     "metadata": {},
     "output_type": "execute_result"
    }
   ],
   "source": [
    "# 核验（显示爬取html的长度）\n",
    "len(html)"
   ]
  },
  {
   "cell_type": "code",
   "execution_count": 63,
   "metadata": {},
   "outputs": [],
   "source": [
    "# 另一种方法：当网页不支持直接获取时，可先下载该网页，然后再载入\n",
    "file_path = r\"C:\\Users\\陈诺1224\\Desktop\\Learning\\Everything\\chapter08\\List of world records in swimming - Wikipedia.html\"\n",
    "with open(file_path, \"r\", encoding=\"utf-8\") as file:\n",
    "    html = file.read()"
   ]
  },
  {
   "cell_type": "code",
   "execution_count": 73,
   "metadata": {},
   "outputs": [
    {
     "data": {
      "text/plain": [
       "'<table class=\"wikitable sortable jquery-tablesorter\" style=\"font-size: 95%;\">\\n<caption>\\n</caption>\\n<thead><tr>\\n<th class=\"headerSort\" tabindex=\"0\" role=\"columnheader button\" title=\"Sort ascending\">Event\\n</th>\\n<th style=\"width:4em\" class=\"unsortable\">Time\\n</th>\\n<th class=\"unsortable\">\\n</th>\\n<th class=\"headerSort\" tabindex=\"0\" role=\"columnheader button\" title=\"Sort ascending\">Name</th>\\n<th class=\"headerSort\" tabindex=\"0\" role=\"columnheader button\" title=\"Sort ascending\">Nationality</th>\\n<th class='"
      ]
     },
     "execution_count": 73,
     "metadata": {},
     "output_type": "execute_result"
    }
   ],
   "source": [
    "# 找到table的最小index：在html中table的标签开头为<table，find功能可以找到该标签对应的最小index\n",
    "# 从table标签一栏中找到前500：list[:]\n",
    "from_where = html.find(\"<table\")\n",
    "html[from_where:from_where+500]"
   ]
  },
  {
   "cell_type": "code",
   "execution_count": 74,
   "metadata": {},
   "outputs": [],
   "source": [
    "# 将网页转换成soup便于查找\n",
    "soup = gazpacho.Soup(html)"
   ]
  },
  {
   "cell_type": "code",
   "execution_count": 18,
   "metadata": {},
   "outputs": [
    {
     "name": "stdout",
     "output_type": "stream",
     "text": [
      "['attrs', 'find', 'get', 'html', 'strip', 'tag', 'text']\n"
     ]
    }
   ],
   "source": [
    "# 利用“print（dir())”来显示可用功能\n",
    "print(dir(soup))"
   ]
  },
  {
   "cell_type": "code",
   "execution_count": 75,
   "metadata": {},
   "outputs": [],
   "source": [
    "# 在soup中查找table，mode=\"all\" 规定返回值为一个列表\n",
    "tables =  soup.find(\"table\", mode=\"all\")"
   ]
  },
  {
   "cell_type": "code",
   "execution_count": 76,
   "metadata": {},
   "outputs": [
    {
     "data": {
      "text/plain": [
       "list"
      ]
     },
     "execution_count": 76,
     "metadata": {},
     "output_type": "execute_result"
    }
   ],
   "source": [
    "type(tables)"
   ]
  },
  {
   "cell_type": "code",
   "execution_count": 78,
   "metadata": {},
   "outputs": [
    {
     "data": {
      "text/plain": [
       "21"
      ]
     },
     "execution_count": 78,
     "metadata": {},
     "output_type": "execute_result"
    }
   ],
   "source": [
    "# 在第一个table中查找行，“tr”是表格行的标签，返回一个列表\n",
    "rows =  tables[0].find(\"tr\", mode=\"all\")\n",
    "len(rows)"
   ]
  },
  {
   "cell_type": "code",
   "execution_count": 80,
   "metadata": {},
   "outputs": [
    {
     "data": {
      "text/plain": [
       "<tr>\n",
       "  <th class=\"headerSort\" tabindex=\"0\" role=\"columnheader button\" title=\"Sort ascending\">Event\n",
       "</th>\n",
       "  <th style=\"width:4em\" class=\"unsortable\">Time\n",
       "</th>\n",
       "  <th class=\"unsortable\">\n",
       "</th>\n",
       "  <th class=\"headerSort\" tabindex=\"0\" role=\"columnheader button\" title=\"Sort ascending\">Name</th>\n",
       "  <th class=\"headerSort\" tabindex=\"0\" role=\"columnheader button\" title=\"Sort ascending\">Nationality</th>\n",
       "  <th class=\"headerSort\" tabindex=\"0\" role=\"columnheader button\" title=\"Sort ascending\">Date</th>\n",
       "  <th class=\"headerSort\" tabindex=\"0\" role=\"columnheader button\" title=\"Sort ascending\">Meet</th>\n",
       "  <th class=\"headerSort\" tabindex=\"0\" role=\"columnheader button\" title=\"Sort ascending\">Location\n",
       "</th>\n",
       "  <th style=\"width:2em\" class=\"unsortable\">Ref\n",
       "</th>\n",
       "</tr>"
      ]
     },
     "execution_count": 80,
     "metadata": {},
     "output_type": "execute_result"
    }
   ],
   "source": [
    "# 显示第一行的内容，通常为列名\n",
    "rows[0]"
   ]
  },
  {
   "cell_type": "code",
   "execution_count": 81,
   "metadata": {},
   "outputs": [
    {
     "name": "stdout",
     "output_type": "stream",
     "text": [
      "1 -> 21 rows\n",
      "2 -> 1 rows\n",
      "3 -> 21 rows\n",
      "4 -> 3 rows\n",
      "5 -> 25 rows\n",
      "6 -> 26 rows\n",
      "7 -> 4 rows\n",
      "8 -> 26 rows\n",
      "9 -> 1 rows\n",
      "10 -> 7 rows\n",
      "11 -> 5 rows\n",
      "12 -> 8 rows\n"
     ]
    }
   ],
   "source": [
    "# 利用enumerate遍历“序号+每个tables”，找到每一个表格，显示表格序号和对应的行数\n",
    "for n, table in enumerate(tables):\n",
    "    rows = table.find(\"tr\",mode = \"all\")\n",
    "    print(f\"{n} -> {len(rows)} rows\")"
   ]
  },
  {
   "cell_type": "code",
   "execution_count": 88,
   "metadata": {},
   "outputs": [
    {
     "name": "stdout",
     "output_type": "stream",
     "text": [
      "50m freestyle => 20.91\n",
      "100m freestyle => 46.40\n",
      "200m freestyle => 1:42.00\n",
      "400m freestyle => 3:40.07\n",
      "800m freestyle => 7:32.12\n",
      "1500m freestyle => 14:30.67\n",
      "50m backstroke => 23.55\n",
      "100m backstroke => 51.60\n",
      "200m backstroke => 1:51.92\n",
      "50m breaststroke => 25.95\n",
      "100m breaststroke => 56.88\n",
      "200m breaststroke => 2:05.48\n",
      "50m butterfly => 22.27\n",
      "100m butterfly => 49.45\n",
      "200m butterfly => 1:50.34\n",
      "200m individual medley => 1:54.00\n",
      "400m individual medley => 4:02.50\n",
      "4 × 100 m freestyle relay => 3:08.24\n",
      "4 × 200 m freestyle relay => 6:58.55\n",
      "4 × 100 m medley relay => 3:26.78\n"
     ]
    }
   ],
   "source": [
    "# 找到第一个表格，从数据行开始[1:]，提取每行中的每个“td”（table data），返回为列表，提取其中的值\".txt\"\n",
    "table = tables[0]\n",
    "for row in table.find(\"tr\", mode=\"all\")[1:]:\n",
    "    columns = row.find(\"td\",mode=\"all\")\n",
    "    event = columns[0].text\n",
    "    time = columns[1].text\n",
    "    print(f\"{event} => {time}\")"
   ]
  },
  {
   "cell_type": "code",
   "execution_count": 85,
   "metadata": {},
   "outputs": [],
   "source": [
    "# 找index为0，2，4，5表格，对应项目名称\n",
    "RECORDS = (0,2,4,5)\n",
    "COURSES = (\"LC Men\",\"LC Women\",\"SC Men\",\"SC Women\")\n",
    "\n",
    "list(zip(RECORDS, COURSES))"
   ]
  },
  {
   "cell_type": "code",
   "execution_count": 91,
   "metadata": {
    "notebookRunGroups": {
     "groupValue": "2"
    }
   },
   "outputs": [
    {
     "name": "stdout",
     "output_type": "stream",
     "text": [
      "LC Men:\n",
      "\t50m freestyle -> 20.91\n",
      "\t100m freestyle -> 46.40\n",
      "\t200m freestyle -> 1:42.00\n",
      "\t400m freestyle -> 3:40.07\n",
      "\t800m freestyle -> 7:32.12\n",
      "\t1500m freestyle -> 14:30.67\n",
      "\t50m backstroke -> 23.55\n",
      "\t100m backstroke -> 51.60\n",
      "\t200m backstroke -> 1:51.92\n",
      "\t50m breaststroke -> 25.95\n",
      "\t100m breaststroke -> 56.88\n",
      "\t200m breaststroke -> 2:05.48\n",
      "\t50m butterfly -> 22.27\n",
      "\t100m butterfly -> 49.45\n",
      "\t200m butterfly -> 1:50.34\n",
      "\t200m individual medley -> 1:54.00\n",
      "\t400m individual medley -> 4:02.50\n",
      "\t4 × 100 m freestyle relay -> 3:08.24\n",
      "\t4 × 200 m freestyle relay -> 6:58.55\n",
      "\t4 × 100 m medley relay -> 3:26.78\n",
      "\n",
      "LC Women:\n",
      "\t50m freestyle -> 23.61\n",
      "\t100m freestyle -> 51.71\n",
      "\t200m freestyle -> 1:52.23\n",
      "\t400m freestyle -> 3:55.38\n",
      "\t800m freestyle -> 8:04.79\n",
      "\t1500m freestyle -> 15:20.48\n",
      "\t50m backstroke -> 26.86\n",
      "\t100m backstroke -> 57.13\n",
      "\t200m backstroke -> 2:03.14\n",
      "\t50m breaststroke -> 29.16\n",
      "\t100m breaststroke -> 1:04.13\n",
      "\t200m breaststroke -> 2:17.55\n",
      "\t50m butterfly -> 24.43\n",
      "\t100m butterfly -> 55.18\n",
      "\t200m butterfly -> 2:01.81\n",
      "\t200m individual medley -> 2:06.12\n",
      "\t400m individual medley -> 4:24.38\n",
      "\t4 × 100 m freestyle relay -> 3:27.96\n",
      "\t4 × 200 m freestyle relay -> 7:37.50\n",
      "\t4 × 100 m medley relay -> 3:49.63\n",
      "\n",
      "SC Men:\n",
      "\t50m freestyle -> 19.90\n",
      "\t100m freestyle -> 44.84\n",
      "\t200m freestyle -> 1:38.61\n",
      "\t400m freestyle -> 3:32.25\n",
      "\t800m freestyle -> 7:20.46\n",
      "\t1500m freestyle -> 14:06.88\n",
      "\t50m backstroke -> 22.11\n",
      "\t100m backstroke -> 48.33\n",
      "\t200m backstroke -> 1:45.63\n",
      "\t50m breaststroke -> 24.95\n",
      "\t100m breaststroke -> 55.28\n",
      "\t200m breaststroke -> 2:00.16\n",
      "\t50m butterfly -> 21.32\n",
      "\t100m butterfly -> 47.71\n",
      "\t200m butterfly -> 1:46.85\n",
      "\t100m individual medley -> 49.28\n",
      "\t200m individual medley -> 1:48.88\n",
      "\t400m individual medley -> 3:54.81\n",
      "\t4 × 50 m freestyle relay -> 1:21.80\n",
      "\t4 × 50 m freestyle relay -> 1:20.77\n",
      "\t4 × 100 m freestyle relay -> 3:01.66\n",
      "\t4 × 200 m freestyle relay -> 6:40.51\n",
      "\t4 × 50 m medley relay -> 1:29.72\n",
      "\t4 × 100 m medley relay -> 3:18.68\n",
      "\n",
      "SC Women:\n",
      "\t50m freestyle -> 22.83\n",
      "\t100m freestyle -> 50.25\n",
      "\t200m freestyle -> 1:50.31\n",
      "\t400m freestyle -> 3:50.25\n",
      "\t800m freestyle -> 7:57.42\n",
      "\t1500m freestyle -> 15:08.24\n",
      "\t50m backstroke -> 25.23\n",
      "\t100m backstroke -> 54.02\n",
      "\t200m backstroke -> 1:58.04\n",
      "\t50m breaststroke -> 28.37\n",
      "\t100m breaststroke -> 1:02.36\n",
      "\t100m breaststroke -> 1:02.36\n",
      "\t100m breaststroke -> 1:02.36\n",
      "\t200m breaststroke -> 2:12.50\n",
      "\t50m butterfly -> 23.94\n",
      "\t100m butterfly -> 52.71\n",
      "\t200m butterfly -> 1:59.32\n",
      "\t100m individual medley -> 55.11\n",
      "\t200m individual medley -> 2:01.63\n",
      "\t400m individual medley -> 4:15.48\n",
      "\t4 × 50 m freestyle relay -> 1:32.50\n",
      "\t4 × 100 m freestyle relay -> 3:25.01\n",
      "\t4 × 200 m freestyle relay -> 7:30.13\n",
      "\t4 × 50 m medley relay -> 1:42.35\n",
      "\t4 × 100 m medley relay -> 3:40.41\n",
      "\n"
     ]
    }
   ],
   "source": [
    "# zip把表格序号和类别名称对应上，for遍历的两个值是zip一对：打印类别名称，以及每个项目名称和时间（从数据框td里获取）\n",
    "for table, course in zip(RECORDS, COURSES):\n",
    "    print(f\"{course}:\")\n",
    "    for row in tables[table].find(\"tr\", mode=\"all\")[1:]:\n",
    "        columns = row.find(\"td\", mode=\"all\")\n",
    "        event = columns[0].text\n",
    "        time = columns[1].text\n",
    "        print(f\"\\t{event} -> {time}\")\n",
    "    print()\n",
    "\n"
   ]
  },
  {
   "cell_type": "code",
   "execution_count": null,
   "metadata": {},
   "outputs": [],
   "source": []
  }
 ],
 "metadata": {
  "kernelspec": {
   "display_name": "Python 3",
   "language": "python",
   "name": "python3"
  },
  "language_info": {
   "codemirror_mode": {
    "name": "ipython",
    "version": 3
   },
   "file_extension": ".py",
   "mimetype": "text/x-python",
   "name": "python",
   "nbconvert_exporter": "python",
   "pygments_lexer": "ipython3",
   "version": "3.11.4"
  }
 },
 "nbformat": 4,
 "nbformat_minor": 2
}
