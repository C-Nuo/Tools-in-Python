{
 "cells": [
  {
   "cell_type": "code",
   "execution_count": 1,
   "metadata": {},
   "outputs": [],
   "source": [
    "# use SQLite to create a database\n",
    "\n",
    "import DBcm\n",
    "\n",
    "db_details = \"Swimclub.sqlite3\""
   ]
  },
  {
   "cell_type": "code",
   "execution_count": null,
   "metadata": {},
   "outputs": [],
   "source": [
    "# load a file\n",
    "\n",
    "import os\n",
    "\n",
    "FOLDER = \"swimdata/\"\n",
    "\n",
    "files = os.listdir(FOLDER)\n",
    "files.remove(\".DS_Store\")"
   ]
  },
  {
   "cell_type": "code",
   "execution_count": null,
   "metadata": {},
   "outputs": [],
   "source": [
    "first = files[0]\n",
    "name, age, _, _ = first.removesuffix(\".txt\").split(\"-\")"
   ]
  },
  {
   "cell_type": "code",
   "execution_count": null,
   "metadata": {},
   "outputs": [],
   "source": [
    "# create 3 tables to store the information\n",
    "\n",
    "## check the current tables\n",
    "with DBcm.UseDatabase(db_details) as db:\n",
    "    db.execute(\"pragma table_list\")\n",
    "    results = db.fetchall()\n",
    "results\n",
    "\n",
    "\n",
    "## create tables\n",
    "with DBcm.UseDatabase(db_details) as db:\n",
    "    SQL_1 = \"\"\"\n",
    "        create table if not exists swimmers (\n",
    "            id integer not null primary key autoincrement,\n",
    "            name varchar(32) not null,\n",
    "            age integer not null\n",
    "        )\n",
    "    \"\"\"\n",
    "\n",
    "    SQL_2 = \"\"\"\n",
    "        create table if not exists times (\n",
    "            swimmer_id integer not null,\n",
    "            event_id integer not null,\n",
    "            time varchar(16) not null,\n",
    "            ts timestamp default current_timestamp\n",
    "        )\n",
    "    \"\"\"\n",
    "\n",
    "    SQL_3 = \"\"\"\n",
    "        create table if not exist events(\n",
    "            id integer not null primary key autoincrement,\n",
    "            distance varchar(16) not null,\n",
    "            stroke varchar(16) not null\n",
    "        )\n",
    "    \"\"\"\n",
    "    db.execute(SQL_1)\n",
    "    db.execute(SQL_2)\n",
    "    db.execute(SQL_3)"
   ]
  },
  {
   "cell_type": "code",
   "execution_count": null,
   "metadata": {},
   "outputs": [],
   "source": [
    "# SQL query: insert data\n",
    "SQL_INSERT = \"\"\"\n",
    "    insert into swimmers\n",
    "    (name,age)\n",
    "    values\n",
    "    (?,?)\n",
    "\"\"\"\n",
    "\n",
    "# execute the command using DBcm.UseDatabase\n",
    "with DBcm.UseDatabase(db_details) as db:\n",
    "    db.execute(SQL_INSERT,(name,age,))"
   ]
  },
  {
   "cell_type": "code",
   "execution_count": null,
   "metadata": {},
   "outputs": [],
   "source": [
    "# SQL query: select data\n",
    "\n",
    "SQL_SELECT = \"\"\"select * from swimmers\"\"\"\n",
    "with DBcm.UseDatabase(db_details) as db:\n",
    "    db.execute(SQL_SELECT)\n",
    "    results = db.fetchall()\n",
    "\n",
    "results"
   ]
  },
  {
   "cell_type": "code",
   "execution_count": null,
   "metadata": {},
   "outputs": [],
   "source": [
    "# SQL query: delete data\n",
    "\n",
    "SQL_DELETE = \"\"\"delete from swimmers\"\"\"\n",
    "with DBcm.UseDatabase(db_details) as db:\n",
    "    db.execute(SQL_DELETE)\n",
    "\n"
   ]
  },
  {
   "cell_type": "code",
   "execution_count": null,
   "metadata": {},
   "outputs": [],
   "source": [
    "# Count the number of items\n",
    "SQL_COUNT = \"\"\"select count(*) from times\"\"\"\n",
    "\n",
    "# Select the top 10 items\n",
    "SQL_TOPTEN = \"\"\"select * from times limit 10\"\"\"\n"
   ]
  },
  {
   "cell_type": "code",
   "execution_count": null,
   "metadata": {},
   "outputs": [],
   "source": [
    "# Batch insert data from a folder and avoid repetition\n",
    "# Populate the \"swimmers\" table.\n",
    "import os\n",
    "import DBcm\n",
    "\n",
    "db_details = \"Swimclub.sqlite3\"\n",
    "\n",
    "FOLDER = \"swimdata/\"\n",
    "\n",
    "files = os.listdir(FOLDER)\n",
    "files.remove(\".DS_Store\")\n",
    "\n",
    "# selection based on the condition\n",
    "SQL_SELECT = \"\"\"\n",
    "    select * from swimmers\n",
    "    where name = ? and age = ?\n",
    "\"\"\"\n",
    "\n",
    "SQL_INSERT = \"\"\"\n",
    "    insert into swimmers\n",
    "    (name, age)\n",
    "    values\n",
    "    (?,?)\n",
    "\"\"\"\n",
    "\n",
    "\n",
    "with DBcm.UseDatabase(db_details) as db:\n",
    "    for fn in files:\n",
    "        name, age, _, _ = fn.removesuffix(\".txt\").split(\"-\")\n",
    "        db.execute(SQL_SELECT, (name, age,)) # NOTICE: tuple is required; therefore, the second comma is needed. \n",
    "        if db.fetchall():\n",
    "            continue # break the current loop and continue with the next item\n",
    "        db.execute(SQL_INSERT, (name, age,))\n",
    "\n",
    "\n",
    "# Populate the \"events\" table following the same steps."
   ]
  },
  {
   "cell_type": "code",
   "execution_count": null,
   "metadata": {},
   "outputs": [],
   "source": [
    "# Populate the \"times\" table with data from \"swimmers\" and \"events\" \n",
    "SQL_GET_SWIMMER = \"\"\"\n",
    "    select id from swimmers\n",
    "    where name = ? and age = ?\n",
    "\"\"\"\n",
    "\n",
    "SQL_GET_EVENT = \"\"\"\n",
    "    select id from events\n",
    "    where distance = ? and stroke = ?\n",
    "\"\"\"\n",
    "\n",
    "SQL_INSERT = \"\"\"\n",
    "    insert into times\n",
    "    (swimmer_id, event_id, time)\n",
    "    values\n",
    "    (?, ?, ?)\n",
    "\"\"\"\n",
    "\n",
    "with DBcm.UseDatabase(db_details) as db:\n",
    "    for fn in files:\n",
    "        name, age, distance, stroke = fn.removesuffix(\".txt\").split(\"-\")\n",
    "        db.execute(SQL_GET_SWIMMER, (name,age,))\n",
    "        s_id = db.fetchone()[0] # otbained the id of the swimmer\n",
    "        db.execute(SQL_GET_EVENT,(distance,stroke,))\n",
    "        e_id = db.fetchon()[0]  # otbained the id of the event\n",
    "        with open(FOLDER+fn) as sf:\n",
    "            times = sf.read().strip().split(\",\")\n",
    "            for t in times:\n",
    "                db.execute(SQL_INSERT, (s_id, e_id, t,))"
   ]
  }
 ],
 "metadata": {
  "kernelspec": {
   "display_name": "Python 3",
   "language": "python",
   "name": "python3"
  },
  "language_info": {
   "codemirror_mode": {
    "name": "ipython",
    "version": 3
   },
   "file_extension": ".py",
   "mimetype": "text/x-python",
   "name": "python",
   "nbconvert_exporter": "python",
   "pygments_lexer": "ipython3",
   "version": "3.11.4"
  }
 },
 "nbformat": 4,
 "nbformat_minor": 2
}
